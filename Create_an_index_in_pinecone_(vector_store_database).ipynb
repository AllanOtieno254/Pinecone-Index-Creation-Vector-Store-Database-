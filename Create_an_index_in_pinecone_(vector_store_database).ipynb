{
  "nbformat": 4,
  "nbformat_minor": 0,
  "metadata": {
    "colab": {
      "provenance": []
    },
    "kernelspec": {
      "name": "python3",
      "display_name": "Python 3"
    },
    "language_info": {
      "name": "python"
    }
  },
  "cells": [
    {
      "cell_type": "code",
      "execution_count": 50,
      "metadata": {
        "colab": {
          "base_uri": "https://localhost:8080/"
        },
        "id": "8vbDNGmIPha4",
        "outputId": "0012867e-c604-4ecb-edc9-418829fe8723"
      },
      "outputs": [
        {
          "output_type": "stream",
          "name": "stdout",
          "text": [
            "Requirement already satisfied: pinecone-client in /usr/local/lib/python3.11/dist-packages (6.0.0)\n",
            "Requirement already satisfied: certifi>=2019.11.17 in /usr/local/lib/python3.11/dist-packages (from pinecone-client) (2025.1.31)\n",
            "Requirement already satisfied: pinecone-plugin-interface<0.0.8,>=0.0.7 in /usr/local/lib/python3.11/dist-packages (from pinecone-client) (0.0.7)\n",
            "Requirement already satisfied: python-dateutil>=2.5.3 in /usr/local/lib/python3.11/dist-packages (from pinecone-client) (2.8.2)\n",
            "Requirement already satisfied: typing-extensions>=3.7.4 in /usr/local/lib/python3.11/dist-packages (from pinecone-client) (4.12.2)\n",
            "Requirement already satisfied: urllib3>=1.26.0 in /usr/local/lib/python3.11/dist-packages (from pinecone-client) (2.3.0)\n",
            "Requirement already satisfied: six>=1.5 in /usr/local/lib/python3.11/dist-packages (from python-dateutil>=2.5.3->pinecone-client) (1.17.0)\n"
          ]
        }
      ],
      "source": [
        "!pip install pinecone-client"
      ]
    },
    {
      "cell_type": "code",
      "source": [
        "\n",
        "!pip install pinecone\n",
        "\n"
      ],
      "metadata": {
        "colab": {
          "base_uri": "https://localhost:8080/"
        },
        "id": "eQCfepSiP_Z8",
        "outputId": "04522fb6-0c74-4f59-edb4-e99ba6321ca5"
      },
      "execution_count": 51,
      "outputs": [
        {
          "output_type": "stream",
          "name": "stdout",
          "text": [
            "Requirement already satisfied: pinecone in /usr/local/lib/python3.11/dist-packages (6.0.2)\n",
            "Requirement already satisfied: certifi>=2019.11.17 in /usr/local/lib/python3.11/dist-packages (from pinecone) (2025.1.31)\n",
            "Requirement already satisfied: pinecone-plugin-interface<0.0.8,>=0.0.7 in /usr/local/lib/python3.11/dist-packages (from pinecone) (0.0.7)\n",
            "Requirement already satisfied: python-dateutil>=2.5.3 in /usr/local/lib/python3.11/dist-packages (from pinecone) (2.8.2)\n",
            "Requirement already satisfied: typing-extensions>=3.7.4 in /usr/local/lib/python3.11/dist-packages (from pinecone) (4.12.2)\n",
            "Requirement already satisfied: urllib3>=1.26.0 in /usr/local/lib/python3.11/dist-packages (from pinecone) (2.3.0)\n",
            "Requirement already satisfied: six>=1.5 in /usr/local/lib/python3.11/dist-packages (from python-dateutil>=2.5.3->pinecone) (1.17.0)\n"
          ]
        }
      ]
    },
    {
      "cell_type": "code",
      "source": [
        "from pinecone import Pinecone\n",
        "\n",
        "# Initialize Pinecone client\n",
        "pc = Pinecone(api_key=\"pcsk_2oTkFj_9bmjoHcrMvLtSSd5vBRF8iZGhhGqQhYEyEFTKW2ikkdnUk33taiqN1RKLPUqLpD\", environment=\"us-west1-gcp\")\n"
      ],
      "metadata": {
        "id": "YAyKyciZQ6Ko"
      },
      "execution_count": 54,
      "outputs": []
    },
    {
      "cell_type": "code",
      "source": [
        "\n",
        "# List all available indexes\n",
        "print(pc.list_indexes().names())\n"
      ],
      "metadata": {
        "colab": {
          "base_uri": "https://localhost:8080/"
        },
        "id": "VIOOh3XwTQwT",
        "outputId": "35bd69de-1b7d-4947-f580-7c711ab1fb9b"
      },
      "execution_count": 55,
      "outputs": [
        {
          "output_type": "stream",
          "name": "stdout",
          "text": [
            "['example-index', 'sample']\n"
          ]
        }
      ]
    },
    {
      "cell_type": "code",
      "source": [
        "from pinecone import Pinecone, ServerlessSpec\n",
        "\n",
        "# Initialize Pinecone client\n",
        "pc = Pinecone(api_key=\"pcsk_2oTkFj_9bmjoHcrMvLtSSd5vBRF8iZGhhGqQhYEyEFTKW2ikkdnUk33taiqN1RKLPUqLpD\")  # Replace with your actual API key\n",
        "\n",
        "# Create an index in a supported region\n",
        "pc.create_index(\n",
        "    name=\"email-agent\",\n",
        "    dimension=128,\n",
        "    metric=\"euclidean\",\n",
        "    spec=ServerlessSpec(\n",
        "        cloud=\"aws\",  # Keep AWS\n",
        "        region=\"us-east-1\"  # Change to a supported region\n",
        "    )\n",
        ")\n"
      ],
      "metadata": {
        "colab": {
          "base_uri": "https://localhost:8080/"
        },
        "id": "IiT5WW5QS4U_",
        "outputId": "1b99d29a-4287-4c50-cee6-a382c07087f8"
      },
      "execution_count": 56,
      "outputs": [
        {
          "output_type": "execute_result",
          "data": {
            "text/plain": [
              "{\n",
              "    \"name\": \"email-agent\",\n",
              "    \"metric\": \"euclidean\",\n",
              "    \"host\": \"email-agent-r07b4ct.svc.aped-4627-b74a.pinecone.io\",\n",
              "    \"spec\": {\n",
              "        \"serverless\": {\n",
              "            \"cloud\": \"aws\",\n",
              "            \"region\": \"us-east-1\"\n",
              "        }\n",
              "    },\n",
              "    \"status\": {\n",
              "        \"ready\": true,\n",
              "        \"state\": \"Ready\"\n",
              "    },\n",
              "    \"vector_type\": \"dense\",\n",
              "    \"dimension\": 128,\n",
              "    \"deletion_protection\": \"disabled\",\n",
              "    \"tags\": null\n",
              "}"
            ]
          },
          "metadata": {},
          "execution_count": 56
        }
      ]
    },
    {
      "cell_type": "code",
      "source": [
        "\n",
        "# List all available indexes\n",
        "print(pc.list_indexes().names())\n"
      ],
      "metadata": {
        "colab": {
          "base_uri": "https://localhost:8080/"
        },
        "id": "8UVSANs4il9c",
        "outputId": "8a068674-fbcd-49dd-e2e9-882f8d5bcf49"
      },
      "execution_count": 57,
      "outputs": [
        {
          "output_type": "stream",
          "name": "stdout",
          "text": [
            "['email-agent', 'example-index', 'sample']\n"
          ]
        }
      ]
    },
    {
      "cell_type": "code",
      "source": [
        "from pinecone import Pinecone\n",
        "\n",
        "# Initialize Pinecone client with your API key\n",
        "pc = Pinecone(api_key=\"pcsk_7GhNsP_TyzJQPKQrP453YnadwNX3e41urfefLKvNmRBafc6zsfwMytYFqR7JF9FZKpK9Pu\")  # Replace with your actual API key\n",
        "\n",
        "# Delete the index\n",
        "pc.delete_index(\"email-agent\")\n"
      ],
      "metadata": {
        "id": "O8vd8lq3e_Ep"
      },
      "execution_count": 48,
      "outputs": []
    }
  ]
}